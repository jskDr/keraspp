{
 "cells": [
  {
   "cell_type": "markdown",
   "metadata": {},
   "source": [
    "# 1장. 케라스 시작하기\n",
    "케라스는 인공지능을 파이썬으로 구현하는 라이브러리입니다. 케라스를 설치하\n",
    "는 방법과 간단한 인공신경망을 구현하는 예제를 다룹니다."
   ]
  },
  {
   "cell_type": "markdown",
   "metadata": {},
   "source": [
    "# 1.3 케라스 사용\n",
    "인공지능으로 숫자를 예측하는 실습을 하면서 파이썬 텍스트 모드와 주피터 노트북 모드에서 케라스 사용법을 익힙시다. 실습 내용은 숫자 예측입니다."
   ]
  },
  {
   "cell_type": "markdown",
   "metadata": {},
   "source": [
    "# 예제 1-1 숫자 5개 중 2개를 학습해 나머지 3개를 예측하는 케라스 예제"
   ]
  },
  {
   "cell_type": "code",
   "execution_count": 1,
   "metadata": {},
   "outputs": [
    {
     "name": "stdout",
     "output_type": "stream",
     "text": [
      "[[1.0194799]\n",
      " [2.9879603]\n",
      " [4.956441 ]\n",
      " [6.924921 ]\n",
      " [8.893402 ]]\n"
     ]
    }
   ],
   "source": [
    "import keras \n",
    "import numpy\n",
    "\n",
    "x = numpy.array([0, 1, 2, 3, 4]) \n",
    "y = x * 2 + 1\n",
    "\n",
    "model = keras.models.Sequential()\n",
    "model.add(keras.layers.Dense(1,input_shape=(1,)))\n",
    "model.compile('SGD', 'mse')\n",
    "\n",
    "model.fit(x[:2], y[:2], epochs=1000, verbose=0)\n",
    "print(model.predict(x))"
   ]
  },
  {
   "cell_type": "markdown",
   "metadata": {},
   "source": [
    "---\n",
    "# KERASPP\n",
    "## 코딩셰프의 3분 딥러닝, 케라스맛\n",
    "[Keras 코드로 맛보는 ANN, DNN, CNN, RNN, AE, GAN, UNET](http://www.yes24.com/24/goods/57617933)\n",
    "\n",
    "케라스 코드로 맛보는 딥러닝 핵심 개념! \n",
    "\n",
    "간결하고 직관적인 인공신경망 API를 제공하는 케라스는 구글 텐서플로, 마이크로소프트 CNTK, 아마존 MXNET, OpenCL PlaidML, 시애노 등의 딥러닝 엔진에서 지원하는 인기 인공지능 툴입니다. 이 코드들은 딥러닝 인공신경망 구현에 케라스를 사용합니다. 케라스로 주요 인공신경망인 ANN, DNN, CNN, RNN, AE, GAN, UNET을 구현하는 방법을 알아봅니다. 따라서 인공지능과 딥러닝 인공신경망의 구현에 관심이 있는 누구나 이 코드의 사용자입니다.\n",
    "\n",
    "<p align=\"center\">\n",
    "<a href=\"http://www.yes24.com/24/goods/57617933\">\n",
    "<img src=\"http://image.yes24.com/momo/TopCate1742/MidCate007/174166602.jpg\" alt=\"3분 딥러닝 케라스맛\" title=\"3분 딥러닝 케라스맛\" width=\"350\"/>\n",
    "</a>\n",
    "</p>\n",
    "\n",
    "\n",
    "## 구성\n",
    "\n",
    "케라스를 이용해 딥러닝 인공신경망을 만들어 인공지능을 구현합니다. 1장은 케라스를 시작하는 데 필요한 기초를 다룹니다. 2장부터는 최신 인공지능 구현 방법인 주요 인공신경망을 예제로 이용해 다룹니다. 2장~5장에서 다루는 ANN, DNN, CNN, RNN은 지도학습 방식의 인공지능입니다. 6장과 7장에서 다루는 AE와 GAN은 비지도학습 방식이고 8장의 UNET은 고급 지도학습 방법입니다. 9장은 8장까지 배운 내용을 응용하고 확장하는 방법을 다룹니다. \n",
    "\n",
    "예제는 쉽게 인공지능 구현 방법을 익히고, 추후 실무에 쉽게 재사용할 수 있게 하는 데 주안점을 두어 작성했습니다. "
   ]
  },
  {
   "cell_type": "code",
   "execution_count": null,
   "metadata": {},
   "outputs": [],
   "source": []
  }
 ],
 "metadata": {
  "kernelspec": {
   "display_name": "tf2",
   "language": "python",
   "name": "tf2"
  },
  "language_info": {
   "codemirror_mode": {
    "name": "ipython",
    "version": 3
   },
   "file_extension": ".py",
   "mimetype": "text/x-python",
   "name": "python",
   "nbconvert_exporter": "python",
   "pygments_lexer": "ipython3",
   "version": "3.6.12"
  },
  "toc": {
   "nav_menu": {},
   "number_sections": true,
   "sideBar": true,
   "skip_h1_title": true,
   "toc_cell": false,
   "toc_position": {},
   "toc_section_display": "block",
   "toc_window_display": false
  }
 },
 "nbformat": 4,
 "nbformat_minor": 4
}
